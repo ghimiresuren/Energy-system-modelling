{
 "cells": [
  {
   "cell_type": "markdown",
   "metadata": {},
   "source": [
    "# Energy System Modelling - Tutorial V.3"
   ]
  },
  {
   "cell_type": "markdown",
   "metadata": {},
   "source": [
    "Diesel can be produced via Fischer-Tropsch process from hydrogen and carbon dioxide. The necessary CO$_2$ can be captured from the atmosphere with direct air capture (DAC) and than be stored.\n",
    "\n",
    "Model the production of diesel via Fischer-Tropsch-process in PyPSA.  Build a pypsa model including transport and electricity demand. Add a store for hydrogen, gas and CO$_2$. Electricity can be generated with an Open-Cycle-gas turbine (OCGT) and for transport diesel cars can be used. All the diesel used during the investigated time period should also be produced via Fischer-Tropsch."
   ]
  },
  {
   "cell_type": "code",
   "execution_count": 124,
   "metadata": {},
   "outputs": [],
   "source": [
    "import pypsa\n",
    "import numpy as np\n",
    "import pandas as pd\n",
    "import matplotlib.pyplot as plt\n",
    "plt.style.use('bmh')\n",
    "%matplotlib inline"
   ]
  },
  {
   "cell_type": "markdown",
   "metadata": {},
   "source": [
    "__(a) Read the demand (unit MWh) for electricity and transport from the csv file__ "
   ]
  },
  {
   "cell_type": "code",
   "execution_count": 125,
   "metadata": {},
   "outputs": [],
   "source": [
    "demand = pd.read_csv(\"./data/elec_transport_demand.csv\", index_col=0, parse_dates=[0])"
   ]
  },
  {
   "cell_type": "markdown",
   "metadata": {},
   "source": [
    "Plot the demand for electricity and transport."
   ]
  },
  {
   "cell_type": "code",
   "execution_count": 126,
   "metadata": {},
   "outputs": [
    {
     "data": {
      "text/plain": [
       "Text(0, 0.5, 'demand [GWh]')"
      ]
     },
     "execution_count": 126,
     "metadata": {},
     "output_type": "execute_result"
    },
    {
     "data": {
      "image/png": "[encoded data removed]",
      "text/plain": [
       "<Figure size 432x288 with 1 Axes>"
      ]
     },
     "metadata": {
      "needs_background": "light"
     },
     "output_type": "display_data"
    }
   ],
   "source": [
    "ax = (demand/1e3).plot()\n",
    "ax.set_xlabel(\"time\")\n",
    "ax.set_ylabel(\"demand [GWh]\")"
   ]
  },
  {
   "cell_type": "markdown",
   "metadata": {},
   "source": [
    "__How do you explaing the shape of the transport demand? (write your thoughts here)__"
   ]
  },
  {
   "cell_type": "markdown",
   "metadata": {},
   "source": [
    "* higher demand during the day\n",
    "* peak demand at rush hour times in the morning and in the evening (more pronounced in the evening)"
   ]
  },
  {
   "cell_type": "markdown",
   "metadata": {},
   "source": [
    "__(b) What is the meaning of ```e_cyclic```, ```e_initial``` and ```e_min_pu``` for the component store in the PyPSA syntax? (look in the [pypsa documentation](\"https://pypsa.readthedocs.io/en/latest/components.html#store\"), write your thoughts here)__"
   ]
  },
  {
   "cell_type": "markdown",
   "metadata": {},
   "source": [
    "* e_cyclic : the initial energy in the store has to be equal to the final energy in the store\n",
    "* e_min_pu : gives the minimum allowed energy relative to e_nom. If it is set to -1, the storage can be also negative with maximum negative store capacity of e_nom.\n",
    "* e_initial: energy in the store at the beginning of the optmisation"
   ]
  },
  {
   "cell_type": "markdown",
   "metadata": {},
   "source": [
    "__(c) Create a pypsa network to model the production of synthetic fuels. To do so, allow multi-links__"
   ]
  },
  {
   "cell_type": "markdown",
   "metadata": {},
   "source": [
    "Allow pypsa component link to have multiple out- and inputs (see [pypsa documentation](https://pypsa.org/doc/components.html#link-with-multiple-outputs-or-inputs))"
   ]
  },
  {
   "cell_type": "code",
   "execution_count": 127,
   "metadata": {},
   "outputs": [],
   "source": [
    "override_component_attrs = pypsa.descriptors.Dict({k : v.copy() for k,v in pypsa.components.component_attrs.items()})\n",
    "override_component_attrs[\"Link\"].loc[\"bus2\"] = [\"string\",np.nan,np.nan,\"2nd bus\",\"Input (optional)\"]\n",
    "override_component_attrs[\"Link\"].loc[\"bus3\"] = [\"string\",np.nan,np.nan,\"3rd bus\",\"Input (optional)\"]\n",
    "override_component_attrs[\"Link\"].loc[\"efficiency2\"] = [\"static or series\",\"per unit\",1.,\"2nd bus efficiency\",\"Input (optional)\"]\n",
    "override_component_attrs[\"Link\"].loc[\"efficiency3\"] = [\"static or series\",\"per unit\",1.,\"3rd bus efficiency\",\"Input (optional)\"]\n",
    "override_component_attrs[\"Link\"].loc[\"p2\"] = [\"series\",\"MW\",0.,\"2nd bus output\",\"Output\"]\n",
    "override_component_attrs[\"Link\"].loc[\"p3\"] = [\"series\",\"MW\",0.,\"3rd bus output\",\"Output\"]"
   ]
  },
  {
   "cell_type": "code",
   "execution_count": 128,
   "metadata": {},
   "outputs": [],
   "source": [
    "n = pypsa.Network(override_component_attrs=override_component_attrs)"
   ]
  },
  {
   "cell_type": "markdown",
   "metadata": {},
   "source": [
    "Set the snapshots as the index of the demand time series\n"
   ]
  },
  {
   "cell_type": "code",
   "execution_count": 129,
   "metadata": {},
   "outputs": [],
   "source": [
    "n.set_snapshots(demand.index)"
   ]
  },
  {
   "cell_type": "markdown",
   "metadata": {},
   "source": [
    "Add a bus and the corresponding load for the carriers transport, electricity"
   ]
  },
  {
   "cell_type": "code",
   "execution_count": 130,
   "metadata": {},
   "outputs": [],
   "source": [
    "# electric bus + load\n",
    "n.add(\"Bus\",\n",
    "      \"electric\")\n",
    "\n",
    "n.add(\"Load\",\n",
    "      \"electric\",\n",
    "      bus=\"electric\",\n",
    "      p_set=demand[\"electricity\"])\n",
    "\n",
    "# transport bus + load \n",
    "n.add(\"Bus\",\n",
    "      \"transport\")\n",
    "\n",
    "n.add(\"Load\",\n",
    "      \"transport\",\n",
    "      bus=\"transport\",\n",
    "      p_set=demand[\"transport\"])\n"
   ]
  },
  {
   "cell_type": "markdown",
   "metadata": {},
   "source": [
    "Add a bus for hydrogen, gas and diesel and a corresponding store\n"
   ]
  },
  {
   "cell_type": "code",
   "execution_count": 131,
   "metadata": {},
   "outputs": [],
   "source": [
    "# hydrogen \n",
    "n.add(\"Bus\",\n",
    "      \"hydrogen\")\n",
    "\n",
    "n.add(\"Store\",\n",
    "      \"hydrogen\",\n",
    "      bus=\"hydrogen\",\n",
    "      e_nom=1e6,\n",
    "      e_initial=1e6,\n",
    "      marginal_cost=213.)\n",
    "\n",
    "# gas\n",
    "n.add(\"Bus\",\n",
    "      \"gas\")\n",
    "\n",
    "n.add(\"Store\",\n",
    "      \"gas\",\n",
    "      bus=\"gas\",\n",
    "      e_nom=6e6,\n",
    "      e_initial=6e6,\n",
    "      marginal_cost=23.)\n",
    "\n",
    "# diesel\n",
    "n.add(\"Bus\",\n",
    "      \"diesel\")\n",
    "\n",
    "n.add(\"Store\",\n",
    "      \"diesel\",\n",
    "      bus=\"diesel\",\n",
    "      e_cyclic=True,\n",
    "      e_nom_extendable=True)\n"
   ]
  },
  {
   "cell_type": "markdown",
   "metadata": {},
   "source": [
    "The CO2 can be stored (for example in [underground caverns](https://en.wikipedia.org/wiki/Carbon_capture_and_storage#Geological_storage)). To model CO2 storage we have to keep track of the CO2\n",
    "which is emitted to the atmosphere. Therefore we add a bus and a storage for the CO2 in the atmosphere \n",
    "and the stored CO2. The storage energy in our model can also become negative, e.g. if more CO2 is removed from the atmosphere than what there was initially."
   ]
  },
  {
   "cell_type": "code",
   "execution_count": 132,
   "metadata": {},
   "outputs": [],
   "source": [
    "# minus sign because opposite to how fossil fuels used:\n",
    "# CH4 burning puts CH4 down, atmosphere up\n",
    "n.add(\"Carrier\",\n",
    "      \"co2\",\n",
    "      co2_emissions=-1.)\n",
    "\n",
    "# CO2 in the atmosphere\n",
    "n.add(\"Bus\",\n",
    "      \"co2 atmosphere\",\n",
    "      carrier=\"co2\")\n",
    "\n",
    "n.add(\"Store\",\n",
    "      \"co2 atmosphere\",\n",
    "      bus=\"co2 atmosphere\",\n",
    "      e_min_pu=-1,\n",
    "      e_nom_extendable=True)\n",
    "\n",
    "# CO2 stored\n",
    "n.add(\"Bus\",\n",
    "      \"co2 stored\")\n",
    "\n",
    "n.add(\"Store\",\n",
    "      \"co2 stored\",\n",
    "      bus=\"co2 stored\",\n",
    "      e_min_pu=-1,\n",
    "      capital_cost=20,\n",
    "      e_nom_extendable=True,)"
   ]
  },
  {
   "cell_type": "markdown",
   "metadata": {},
   "source": [
    "Add the possibility of [Direct Air Capture (DAC)](https://en.wikipedia.org/wiki/Direct_air_capture) of CO2 by adding a PyPSA link. The CO2 is captured from the atmosphere and stored."
   ]
  },
  {
   "cell_type": "code",
   "execution_count": 133,
   "metadata": {},
   "outputs": [],
   "source": [
    "# Direct Air Capture (DAC)\n",
    "n.add(\"Link\",\n",
    "      \"DAC\",\n",
    "      bus0=\"co2 atmosphere\",\n",
    "      bus1=\"co2 stored\",\n",
    "      efficiency=1,\n",
    "      marginal_cost=100,\n",
    "      p_nom_extendable=True)"
   ]
  },
  {
   "cell_type": "markdown",
   "metadata": {},
   "source": [
    "__Why do we need to keep track of the CO2 by adding a bus and store for the CO2 in the atmosphere?__"
   ]
  },
  {
   "cell_type": "markdown",
   "metadata": {},
   "source": [
    "If we want to model Carbon Capture and Storage it is necessary to keep track of the CO2.\n",
    "We want to know how much CO2 is stored e.g. to used this stored CO2 to produce diesel."
   ]
  },
  {
   "cell_type": "markdown",
   "metadata": {},
   "source": [
    "Add diesel cars to satisfy the transport demand using a multi-link"
   ]
  },
  {
   "cell_type": "code",
   "execution_count": 134,
   "metadata": {},
   "outputs": [],
   "source": [
    "# diesel car\n",
    "n.add(\"Link\",\n",
    "      \"diesel car\",\n",
    "      bus0=\"diesel\",\n",
    "      bus1=\"transport\",\n",
    "      bus2=\"co2 atmosphere\",\n",
    "      efficiency=0.35,\n",
    "      efficiency2=1.,\n",
    "      p_nom_extendable=True)"
   ]
  },
  {
   "cell_type": "markdown",
   "metadata": {},
   "source": [
    "Add a open-cyclce gas turbine (OCGT) to satisfy the electricity demand"
   ]
  },
  {
   "cell_type": "code",
   "execution_count": 135,
   "metadata": {},
   "outputs": [],
   "source": [
    "# OCGT\n",
    "n.add(\"Link\",\n",
    "      \"OCGT\",\n",
    "      bus0=\"gas\",\n",
    "      bus1=\"electric\",\n",
    "      bus2=\"co2 atmosphere\",\n",
    "      efficiency=0.5,\n",
    "      efficiency2=1,\n",
    "      capital_cost=2e3,\n",
    "      marginal_cost=2,\n",
    "      p_nom_extendable=True)"
   ]
  },
  {
   "cell_type": "markdown",
   "metadata": {},
   "source": [
    "Diesel can be produced from H2 and CO2 via [Fischer-Tropsch](https://en.wikipedia.org/wiki/Fischer%E2%80%93Tropsch_process).\n",
    "Add a link which represents this process"
   ]
  },
  {
   "cell_type": "code",
   "execution_count": 136,
   "metadata": {},
   "outputs": [],
   "source": [
    "n.add(\"Link\",\n",
    "      \"Fischer-Tropsch\",\n",
    "      bus0=\"hydrogen\",\n",
    "      bus1=\"diesel\",\n",
    "      bus2=\"co2 stored\",\n",
    "      efficiency=1.,\n",
    "      efficiency2=-1,\n",
    "      capital_cost=145,\n",
    "      p_nom_extendable=True)"
   ]
  },
  {
   "cell_type": "markdown",
   "metadata": {},
   "source": [
    "__(d) Run an investment optimisation__"
   ]
  },
  {
   "cell_type": "code",
   "execution_count": 137,
   "metadata": {},
   "outputs": [
    {
     "name": "stderr",
     "output_type": "stream",
     "text": [
      "INFO:pypsa.opf:Performed preliminary steps\n",
      "INFO:pypsa.opf:Building pyomo model using `kirchhoff` formulation\n",
      "INFO:pypsa.opf:Solving model using glpk\n",
      "INFO:pypsa.opf:Optimization successful\n"
     ]
    },
    {
     "name": "stdout",
     "output_type": "stream",
     "text": [
      "# ==========================================================\n",
      "# = Solver Results                                         =\n",
      "# ==========================================================\n",
      "# ----------------------------------------------------------\n",
      "#   Problem Information\n",
      "# ----------------------------------------------------------\n",
      "Problem: \n",
      "- Name: unknown\n",
      "  Lower bound: 433111995.723929\n",
      "  Upper bound: 433111995.723929\n",
      "  Number of objectives: 1\n",
      "  Number of constraints: 443\n",
      "  Number of variables: 246\n",
      "  Number of nonzeros: 915\n",
      "  Sense: minimize\n",
      "# ----------------------------------------------------------\n",
      "#   Solver Information\n",
      "# ----------------------------------------------------------\n",
      "Solver: \n",
      "- Status: ok\n",
      "  Termination condition: optimal\n",
      "  Statistics: \n",
      "    Branch and bound: \n",
      "      Number of bounded subproblems: 0\n",
      "      Number of created subproblems: 0\n",
      "  Error rc: 0\n",
      "  Time: 0.016727924346923828\n",
      "# ----------------------------------------------------------\n",
      "#   Solution Information\n",
      "# ----------------------------------------------------------\n",
      "Solution: \n",
      "- number of solutions: 0\n",
      "  number of solutions displayed: 0\n"
     ]
    },
    {
     "data": {
      "text/plain": [
       "('ok', 'optimal')"
      ]
     },
     "execution_count": 137,
     "metadata": {},
     "output_type": "execute_result"
    }
   ],
   "source": [
    "n.lopf()"
   ]
  },
  {
   "cell_type": "markdown",
   "metadata": {},
   "source": [
    "Now we can set an upper limit for the CO2 emissions and add this limit as an additional constraint to the \n",
    "optimisation problem"
   ]
  },
  {
   "cell_type": "markdown",
   "metadata": {},
   "source": [
    "__(d)(i) Show that the total amount of CO2 in the system stays constant__"
   ]
  },
  {
   "cell_type": "code",
   "execution_count": 138,
   "metadata": {},
   "outputs": [
    {
     "data": {
      "text/plain": [
       "name\n",
       "2013-01-01 00:00:00    6.064654e+06\n",
       "2013-01-01 03:00:00    6.064654e+06\n",
       "2013-01-01 06:00:00    6.064654e+06\n",
       "2013-01-01 09:00:00    6.064654e+06\n",
       "2013-01-01 12:00:00    6.064654e+06\n",
       "2013-01-01 15:00:00    6.064654e+06\n",
       "2013-01-01 18:00:00    6.064654e+06\n",
       "2013-01-01 21:00:00    6.064654e+06\n",
       "2013-01-02 00:00:00    6.064654e+06\n",
       "2013-01-02 03:00:00    6.064654e+06\n",
       "2013-01-02 06:00:00    6.064654e+06\n",
       "2013-01-02 09:00:00    6.064654e+06\n",
       "2013-01-02 12:00:00    6.064654e+06\n",
       "2013-01-02 15:00:00    6.064654e+06\n",
       "2013-01-02 18:00:00    6.064654e+06\n",
       "2013-01-02 21:00:00    6.064654e+06\n",
       "2013-01-03 00:00:00    6.064654e+06\n",
       "dtype: float64"
      ]
     },
     "execution_count": 138,
     "metadata": {},
     "output_type": "execute_result"
    }
   ],
   "source": [
    "n.stores_t.e[[\"co2 stored\",\"co2 atmosphere\",\"gas\",\"diesel\"]].sum(axis=1)"
   ]
  },
  {
   "cell_type": "markdown",
   "metadata": {},
   "source": [
    "__(d)(ii) Plot the energy difference in the plots. You can use the pandas function ```diff()```__"
   ]
  },
  {
   "cell_type": "code",
   "execution_count": 139,
   "metadata": {},
   "outputs": [
    {
     "data": {
      "text/plain": [
       "<matplotlib.axes._subplots.AxesSubplot at 0x7f0680bf2820>"
      ]
     },
     "execution_count": 139,
     "metadata": {},
     "output_type": "execute_result"
    },
    {
     "data": {
      "image/png": "[encoded data removed]",
      "text/plain": [
       "<Figure size 432x288 with 1 Axes>"
      ]
     },
     "metadata": {
      "needs_background": "light"
     },
     "output_type": "display_data"
    }
   ],
   "source": [
    "n.stores_t.e.diff().fillna(0).plot()"
   ]
  },
  {
   "cell_type": "markdown",
   "metadata": {},
   "source": [
    "__(d)(iii) What are the total system costs?__"
   ]
  },
  {
   "cell_type": "code",
   "execution_count": 140,
   "metadata": {},
   "outputs": [
    {
     "data": {
      "text/plain": [
       "433111995.723929"
      ]
     },
     "execution_count": 140,
     "metadata": {},
     "output_type": "execute_result"
    }
   ],
   "source": [
    "costs_no_limit = n.objective\n",
    "n.objective"
   ]
  },
  {
   "cell_type": "markdown",
   "metadata": {},
   "source": [
    "__(e) Now add an constraint for the CO2 content in the atmosphere in the last time step to zero and rerun the investment optimisation (see also in PyPSA [documentation](\"https://pypsa.readthedocs.io/en/latest/components.html#global-constraints\") ```GlobalConstraint```)__"
   ]
  },
  {
   "cell_type": "code",
   "execution_count": 141,
   "metadata": {},
   "outputs": [
    {
     "name": "stderr",
     "output_type": "stream",
     "text": [
      "INFO:pypsa.opf:Performed preliminary steps\n",
      "INFO:pypsa.opf:Building pyomo model using `kirchhoff` formulation\n",
      "INFO:pypsa.opf:Solving model using glpk\n",
      "INFO:pypsa.opf:Optimization successful\n"
     ]
    },
    {
     "name": "stdout",
     "output_type": "stream",
     "text": [
      "# ==========================================================\n",
      "# = Solver Results                                         =\n",
      "# ==========================================================\n",
      "# ----------------------------------------------------------\n",
      "#   Problem Information\n",
      "# ----------------------------------------------------------\n",
      "Problem: \n",
      "- Name: unknown\n",
      "  Lower bound: 648561532.368272\n",
      "  Upper bound: 648561532.368272\n",
      "  Number of objectives: 1\n",
      "  Number of constraints: 444\n",
      "  Number of variables: 246\n",
      "  Number of nonzeros: 916\n",
      "  Sense: minimize\n",
      "# ----------------------------------------------------------\n",
      "#   Solver Information\n",
      "# ----------------------------------------------------------\n",
      "Solver: \n",
      "- Status: ok\n",
      "  Termination condition: optimal\n",
      "  Statistics: \n",
      "    Branch and bound: \n",
      "      Number of bounded subproblems: 0\n",
      "      Number of created subproblems: 0\n",
      "  Error rc: 0\n",
      "  Time: 0.016194820404052734\n",
      "# ----------------------------------------------------------\n",
      "#   Solution Information\n",
      "# ----------------------------------------------------------\n",
      "Solution: \n",
      "- number of solutions: 0\n",
      "  number of solutions displayed: 0\n"
     ]
    },
    {
     "data": {
      "text/plain": [
       "('ok', 'optimal')"
      ]
     },
     "execution_count": 141,
     "metadata": {},
     "output_type": "execute_result"
    }
   ],
   "source": [
    "limit = 0\n",
    "n.add(\"GlobalConstraint\",\n",
    "      \"co2_limit\",\n",
    "      sense=\"<=\",\n",
    "      carrier_attribute=\"co2_emissions\",\n",
    "      constant=limit)\n",
    "\n",
    "n.lopf()"
   ]
  },
  {
   "cell_type": "markdown",
   "metadata": {},
   "source": [
    "__How large are the total system costs now?__"
   ]
  },
  {
   "cell_type": "code",
   "execution_count": 142,
   "metadata": {},
   "outputs": [
    {
     "name": "stdout",
     "output_type": "stream",
     "text": [
      "total_costs:  648561532.368272 increased by  1.4974453230837623\n"
     ]
    }
   ],
   "source": [
    "costs_limit = n.objective\n",
    "print(\"total_costs: \",n.objective, \"increased by \", costs_limit/costs_no_limit)"
   ]
  },
  {
   "cell_type": "code",
   "execution_count": 143,
   "metadata": {},
   "outputs": [
    {
     "data": {
      "text/plain": [
       "<matplotlib.legend.Legend at 0x7f0680730760>"
      ]
     },
     "execution_count": 143,
     "metadata": {},
     "output_type": "execute_result"
    },
    {
     "data": {
      "image/png": "[encoded data removed]",
      "text/plain": [
       "<Figure size 432x288 with 1 Axes>"
      ]
     },
     "metadata": {
      "needs_background": "light"
     },
     "output_type": "display_data"
    }
   ],
   "source": [
    "n.stores_t.e.diff().fillna(0).plot().legend(bbox_to_anchor=(1,1))"
   ]
  },
  {
   "cell_type": "markdown",
   "metadata": {},
   "source": [
    "__How much CO2 storage capacity is necessary?__"
   ]
  },
  {
   "cell_type": "code",
   "execution_count": 144,
   "metadata": {},
   "outputs": [
    {
     "data": {
      "text/plain": [
       "1239770.5846896"
      ]
     },
     "execution_count": 144,
     "metadata": {},
     "output_type": "execute_result"
    }
   ],
   "source": [
    "n.stores.loc[\"co2 stored\", \"e_nom_opt\"]"
   ]
  },
  {
   "cell_type": "markdown",
   "metadata": {},
   "source": [
    "__(f) Add electric cars to the problem (using a PyPSA \"Link\" and the given efficiency) and solve the optimisation problem again. How large is the share of electric cars?__"
   ]
  },
  {
   "cell_type": "code",
   "execution_count": 145,
   "metadata": {},
   "outputs": [
    {
     "name": "stderr",
     "output_type": "stream",
     "text": [
      "INFO:pypsa.opf:Performed preliminary steps\n",
      "INFO:pypsa.opf:Building pyomo model using `kirchhoff` formulation\n",
      "INFO:pypsa.opf:Solving model using glpk\n",
      "INFO:pypsa.opf:Optimization successful\n"
     ]
    },
    {
     "name": "stdout",
     "output_type": "stream",
     "text": [
      "# ==========================================================\n",
      "# = Solver Results                                         =\n",
      "# ==========================================================\n",
      "# ----------------------------------------------------------\n",
      "#   Problem Information\n",
      "# ----------------------------------------------------------\n",
      "Problem: \n",
      "- Name: unknown\n",
      "  Lower bound: 560928132.466879\n",
      "  Upper bound: 560928132.466879\n",
      "  Number of objectives: 1\n",
      "  Number of constraints: 478\n",
      "  Number of variables: 264\n",
      "  Number of nonzeros: 1001\n",
      "  Sense: minimize\n",
      "# ----------------------------------------------------------\n",
      "#   Solver Information\n",
      "# ----------------------------------------------------------\n",
      "Solver: \n",
      "- Status: ok\n",
      "  Termination condition: optimal\n",
      "  Statistics: \n",
      "    Branch and bound: \n",
      "      Number of bounded subproblems: 0\n",
      "      Number of created subproblems: 0\n",
      "  Error rc: 0\n",
      "  Time: 0.0189821720123291\n",
      "# ----------------------------------------------------------\n",
      "#   Solution Information\n",
      "# ----------------------------------------------------------\n",
      "Solution: \n",
      "- number of solutions: 0\n",
      "  number of solutions displayed: 0\n"
     ]
    },
    {
     "data": {
      "text/plain": [
       "DAC                487594.246212\n",
       "diesel car          65484.957637\n",
       "OCGT               118652.560319\n",
       "Fischer-Tropsch     14049.945598\n",
       "electric car        28374.474126\n",
       "Name: p_nom_opt, dtype: float64"
      ]
     },
     "execution_count": 145,
     "metadata": {},
     "output_type": "execute_result"
    }
   ],
   "source": [
    "# electric car\n",
    "n.add(\"Link\",\n",
    "      \"electric car\",\n",
    "      bus0=\"electric\",\n",
    "      bus1=\"transport\",\n",
    "      efficiency=0.9,\n",
    "      p_nom_extendable=True)\n",
    "\n",
    "n.lopf()\n",
    "n.links.p_nom_opt"
   ]
  },
  {
   "cell_type": "code",
   "execution_count": 146,
   "metadata": {},
   "outputs": [
    {
     "name": "stdout",
     "output_type": "stream",
     "text": [
      "share of electric cars:  0.7134258145739893\n"
     ]
    }
   ],
   "source": [
    "energy_transport = abs(n.links_t.p1[[\"diesel car\", \"electric car\"]]).sum()\n",
    "print(\"share of electric cars: \", energy_transport.loc[\"electric car\"]/energy_transport.sum())"
   ]
  },
  {
   "cell_type": "markdown",
   "metadata": {},
   "source": [
    "__(g) Now add the possibility to generate electricity with an onshore wind turbine. The time serie for the wind turbine is given in the data folder (wind_time_series.csv) and run the optimisation again. How large is the share of electric cars now?__"
   ]
  },
  {
   "cell_type": "code",
   "execution_count": 147,
   "metadata": {},
   "outputs": [
    {
     "data": {
      "image/png": "[encoded data removed]",
      "text/plain": [
       "<Figure size 432x288 with 1 Axes>"
      ]
     },
     "metadata": {
      "needs_background": "light"
     },
     "output_type": "display_data"
    }
   ],
   "source": [
    "wind_timeseries = pd.read_csv(\"./data/wind_time_series.csv\", index_col=0,\n",
    "                              parse_dates=[0])\n",
    "\n",
    "wind_timeseries.plot(title=\"onshore wind time series\")\n",
    "\n",
    "n.add(\"Generator\",\n",
    "      \"onwind\",\n",
    "      bus=\"electric\",\n",
    "      capital_cost=1.5e3,\n",
    "      p_max_pu = wind_timeseries[\"onwind\"],\n",
    "      p_nom_extendable=True)"
   ]
  },
  {
   "cell_type": "code",
   "execution_count": 148,
   "metadata": {},
   "outputs": [
    {
     "name": "stderr",
     "output_type": "stream",
     "text": [
      "INFO:pypsa.opf:Performed preliminary steps\n",
      "INFO:pypsa.opf:Building pyomo model using `kirchhoff` formulation\n",
      "INFO:pypsa.opf:Solving model using glpk\n",
      "INFO:pypsa.opf:Optimization successful\n"
     ]
    },
    {
     "name": "stdout",
     "output_type": "stream",
     "text": [
      "# ==========================================================\n",
      "# = Solver Results                                         =\n",
      "# ==========================================================\n",
      "# ----------------------------------------------------------\n",
      "#   Problem Information\n",
      "# ----------------------------------------------------------\n",
      "Problem: \n",
      "- Name: unknown\n",
      "  Lower bound: 300592703.188756\n",
      "  Upper bound: 300592703.188756\n",
      "  Number of objectives: 1\n",
      "  Number of constraints: 512\n",
      "  Number of variables: 282\n",
      "  Number of nonzeros: 1069\n",
      "  Sense: minimize\n",
      "# ----------------------------------------------------------\n",
      "#   Solver Information\n",
      "# ----------------------------------------------------------\n",
      "Solver: \n",
      "- Status: ok\n",
      "  Termination condition: optimal\n",
      "  Statistics: \n",
      "    Branch and bound: \n",
      "      Number of bounded subproblems: 0\n",
      "      Number of created subproblems: 0\n",
      "  Error rc: 0\n",
      "  Time: 0.01800084114074707\n",
      "# ----------------------------------------------------------\n",
      "#   Solution Information\n",
      "# ----------------------------------------------------------\n",
      "Solution: \n",
      "- number of solutions: 0\n",
      "  number of solutions displayed: 0\n"
     ]
    },
    {
     "data": {
      "text/plain": [
       "DAC                 4984.121485\n",
       "diesel car         67047.484844\n",
       "OCGT                   0.000000\n",
       "Fischer-Tropsch     4984.121485\n",
       "electric car       33011.794208\n",
       "Name: p_nom_opt, dtype: float64"
      ]
     },
     "execution_count": 148,
     "metadata": {},
     "output_type": "execute_result"
    }
   ],
   "source": [
    "n.lopf()\n",
    "n.links.p_nom_opt"
   ]
  },
  {
   "cell_type": "code",
   "execution_count": 149,
   "metadata": {},
   "outputs": [
    {
     "data": {
      "text/plain": [
       "diesel car       29655.522835\n",
       "electric car    262056.643022\n",
       "dtype: float64"
      ]
     },
     "execution_count": 149,
     "metadata": {},
     "output_type": "execute_result"
    }
   ],
   "source": [
    "abs(n.links_t.p1[[\"diesel car\", \"electric car\"]]).sum()"
   ]
  },
  {
   "cell_type": "code",
   "execution_count": 150,
   "metadata": {},
   "outputs": [
    {
     "data": {
      "text/plain": [
       "291712.1658569545"
      ]
     },
     "execution_count": 150,
     "metadata": {},
     "output_type": "execute_result"
    }
   ],
   "source": [
    "n.loads_t.p_set[\"transport\"].sum()"
   ]
  },
  {
   "cell_type": "code",
   "execution_count": 151,
   "metadata": {},
   "outputs": [
    {
     "name": "stdout",
     "output_type": "stream",
     "text": [
      "share of electric cars:  0.8983397804196298\n"
     ]
    }
   ],
   "source": [
    "energy_transport = abs(n.links_t.p1[[\"diesel car\", \"electric car\"]]).sum()\n",
    "print(\"share of electric cars: \", energy_transport.loc[\"electric car\"]/energy_transport.sum())"
   ]
  },
  {
   "cell_type": "code",
   "execution_count": null,
   "metadata": {},
   "outputs": [],
   "source": []
  }
 ],
 "metadata": {
  "kernelspec": {
   "display_name": "Python 3",
   "language": "python",
   "name": "python3"
  },
  "language_info": {
   "codemirror_mode": {
    "name": "ipython",
    "version": 3
   },
   "file_extension": ".py",
   "mimetype": "text/x-python",
   "name": "python",
   "nbconvert_exporter": "python",
   "pygments_lexer": "ipython3",
   "version": "3.8.2"
  }
 },
 "nbformat": 4,
 "nbformat_minor": 4
}
